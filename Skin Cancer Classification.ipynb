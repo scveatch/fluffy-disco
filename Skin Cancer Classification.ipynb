{
 "cells": [
  {
   "cell_type": "markdown",
   "id": "abd372f8",
   "metadata": {},
   "source": [
    "# Skin Cancer Classification"
   ]
  },
  {
   "cell_type": "markdown",
   "id": "0447a557",
   "metadata": {},
   "source": [
    "## Import Relevant Packages"
   ]
  },
  {
   "cell_type": "code",
   "execution_count": 15,
   "id": "24d64341",
   "metadata": {},
   "outputs": [],
   "source": [
    "import numpy as np\n",
    "import pandas as pd\n",
    "import tensorflow as tf\n",
    "from tensorflow.keras import layers\n",
    "from tensorflow import keras\n",
    "from tensorflow.keras import models\n",
    "import matplotlib.pyplot as plt\n",
    "from sklearn.model_selection import train_test_split\n",
    "import PIL.Image as img\n",
    "from keras.layers import Dense, Conv2D , MaxPool2D , Dropout , Flatten\n",
    "from keras.callbacks import EarlyStopping\n",
    "from tensorflow.keras.utils import to_categorical\n",
    "from tensorflow.keras.layers.experimental import preprocessing\n",
    "import seaborn as sns"
   ]
  },
  {
   "cell_type": "markdown",
   "id": "fd70753c",
   "metadata": {},
   "source": [
    "## Read in Dataset"
   ]
  },
  {
   "cell_type": "code",
   "execution_count": 35,
   "id": "fd2c9464",
   "metadata": {},
   "outputs": [
    {
     "data": {
      "text/html": [
       "<div>\n",
       "<style scoped>\n",
       "    .dataframe tbody tr th:only-of-type {\n",
       "        vertical-align: middle;\n",
       "    }\n",
       "\n",
       "    .dataframe tbody tr th {\n",
       "        vertical-align: top;\n",
       "    }\n",
       "\n",
       "    .dataframe thead th {\n",
       "        text-align: right;\n",
       "    }\n",
       "</style>\n",
       "<table border=\"1\" class=\"dataframe\">\n",
       "  <thead>\n",
       "    <tr style=\"text-align: right;\">\n",
       "      <th></th>\n",
       "      <th>pixel0000</th>\n",
       "      <th>pixel0001</th>\n",
       "      <th>pixel0002</th>\n",
       "      <th>pixel0003</th>\n",
       "      <th>pixel0004</th>\n",
       "      <th>pixel0005</th>\n",
       "      <th>pixel0006</th>\n",
       "      <th>pixel0007</th>\n",
       "      <th>pixel0008</th>\n",
       "      <th>pixel0009</th>\n",
       "      <th>...</th>\n",
       "      <th>pixel0775</th>\n",
       "      <th>pixel0776</th>\n",
       "      <th>pixel0777</th>\n",
       "      <th>pixel0778</th>\n",
       "      <th>pixel0779</th>\n",
       "      <th>pixel0780</th>\n",
       "      <th>pixel0781</th>\n",
       "      <th>pixel0782</th>\n",
       "      <th>pixel0783</th>\n",
       "      <th>label</th>\n",
       "    </tr>\n",
       "  </thead>\n",
       "  <tbody>\n",
       "    <tr>\n",
       "      <th>0</th>\n",
       "      <td>169</td>\n",
       "      <td>171</td>\n",
       "      <td>170</td>\n",
       "      <td>177</td>\n",
       "      <td>181</td>\n",
       "      <td>182</td>\n",
       "      <td>181</td>\n",
       "      <td>185</td>\n",
       "      <td>194</td>\n",
       "      <td>192</td>\n",
       "      <td>...</td>\n",
       "      <td>184</td>\n",
       "      <td>186</td>\n",
       "      <td>185</td>\n",
       "      <td>180</td>\n",
       "      <td>157</td>\n",
       "      <td>140</td>\n",
       "      <td>140</td>\n",
       "      <td>159</td>\n",
       "      <td>165</td>\n",
       "      <td>2</td>\n",
       "    </tr>\n",
       "    <tr>\n",
       "      <th>1</th>\n",
       "      <td>19</td>\n",
       "      <td>57</td>\n",
       "      <td>105</td>\n",
       "      <td>140</td>\n",
       "      <td>149</td>\n",
       "      <td>148</td>\n",
       "      <td>144</td>\n",
       "      <td>155</td>\n",
       "      <td>170</td>\n",
       "      <td>170</td>\n",
       "      <td>...</td>\n",
       "      <td>172</td>\n",
       "      <td>175</td>\n",
       "      <td>160</td>\n",
       "      <td>144</td>\n",
       "      <td>114</td>\n",
       "      <td>89</td>\n",
       "      <td>47</td>\n",
       "      <td>18</td>\n",
       "      <td>18</td>\n",
       "      <td>2</td>\n",
       "    </tr>\n",
       "    <tr>\n",
       "      <th>2</th>\n",
       "      <td>155</td>\n",
       "      <td>163</td>\n",
       "      <td>161</td>\n",
       "      <td>167</td>\n",
       "      <td>167</td>\n",
       "      <td>172</td>\n",
       "      <td>155</td>\n",
       "      <td>152</td>\n",
       "      <td>165</td>\n",
       "      <td>175</td>\n",
       "      <td>...</td>\n",
       "      <td>163</td>\n",
       "      <td>178</td>\n",
       "      <td>157</td>\n",
       "      <td>166</td>\n",
       "      <td>167</td>\n",
       "      <td>148</td>\n",
       "      <td>141</td>\n",
       "      <td>136</td>\n",
       "      <td>115</td>\n",
       "      <td>2</td>\n",
       "    </tr>\n",
       "    <tr>\n",
       "      <th>3</th>\n",
       "      <td>25</td>\n",
       "      <td>71</td>\n",
       "      <td>116</td>\n",
       "      <td>139</td>\n",
       "      <td>136</td>\n",
       "      <td>153</td>\n",
       "      <td>148</td>\n",
       "      <td>161</td>\n",
       "      <td>172</td>\n",
       "      <td>162</td>\n",
       "      <td>...</td>\n",
       "      <td>125</td>\n",
       "      <td>135</td>\n",
       "      <td>138</td>\n",
       "      <td>137</td>\n",
       "      <td>111</td>\n",
       "      <td>71</td>\n",
       "      <td>32</td>\n",
       "      <td>16</td>\n",
       "      <td>16</td>\n",
       "      <td>2</td>\n",
       "    </tr>\n",
       "    <tr>\n",
       "      <th>4</th>\n",
       "      <td>129</td>\n",
       "      <td>162</td>\n",
       "      <td>181</td>\n",
       "      <td>196</td>\n",
       "      <td>205</td>\n",
       "      <td>208</td>\n",
       "      <td>205</td>\n",
       "      <td>213</td>\n",
       "      <td>225</td>\n",
       "      <td>224</td>\n",
       "      <td>...</td>\n",
       "      <td>210</td>\n",
       "      <td>197</td>\n",
       "      <td>172</td>\n",
       "      <td>190</td>\n",
       "      <td>195</td>\n",
       "      <td>193</td>\n",
       "      <td>181</td>\n",
       "      <td>147</td>\n",
       "      <td>88</td>\n",
       "      <td>2</td>\n",
       "    </tr>\n",
       "  </tbody>\n",
       "</table>\n",
       "<p>5 rows × 785 columns</p>\n",
       "</div>"
      ],
      "text/plain": [
       "   pixel0000  pixel0001  pixel0002  pixel0003  pixel0004  pixel0005  \\\n",
       "0        169        171        170        177        181        182   \n",
       "1         19         57        105        140        149        148   \n",
       "2        155        163        161        167        167        172   \n",
       "3         25         71        116        139        136        153   \n",
       "4        129        162        181        196        205        208   \n",
       "\n",
       "   pixel0006  pixel0007  pixel0008  pixel0009  ...  pixel0775  pixel0776  \\\n",
       "0        181        185        194        192  ...        184        186   \n",
       "1        144        155        170        170  ...        172        175   \n",
       "2        155        152        165        175  ...        163        178   \n",
       "3        148        161        172        162  ...        125        135   \n",
       "4        205        213        225        224  ...        210        197   \n",
       "\n",
       "   pixel0777  pixel0778  pixel0779  pixel0780  pixel0781  pixel0782  \\\n",
       "0        185        180        157        140        140        159   \n",
       "1        160        144        114         89         47         18   \n",
       "2        157        166        167        148        141        136   \n",
       "3        138        137        111         71         32         16   \n",
       "4        172        190        195        193        181        147   \n",
       "\n",
       "   pixel0783  label  \n",
       "0        165      2  \n",
       "1         18      2  \n",
       "2        115      2  \n",
       "3         16      2  \n",
       "4         88      2  \n",
       "\n",
       "[5 rows x 785 columns]"
      ]
     },
     "execution_count": 35,
     "metadata": {},
     "output_type": "execute_result"
    }
   ],
   "source": [
    "data = pd.read_csv(\"./hmnist_28_28_L.csv\")\n",
    "metadata = pd.read_csv(\"./HAM10000_metadata.csv\")\n",
    "\n",
    "# Normalize data:\n",
    "data_normalized = data / 255\n",
    "\n",
    "data.head()"
   ]
  },
  {
   "cell_type": "markdown",
   "id": "89257a87",
   "metadata": {},
   "source": [
    "## Metadata Analysis"
   ]
  },
  {
   "cell_type": "code",
   "execution_count": 25,
   "id": "61aa7a73",
   "metadata": {},
   "outputs": [
    {
     "data": {
      "text/plain": [
       "lesion_id       0\n",
       "image_id        0\n",
       "dx              0\n",
       "dx_type         0\n",
       "age             0\n",
       "sex             0\n",
       "localization    0\n",
       "dtype: int64"
      ]
     },
     "execution_count": 25,
     "metadata": {},
     "output_type": "execute_result"
    }
   ],
   "source": [
    "metadata.isna().sum()"
   ]
  },
  {
   "cell_type": "markdown",
   "id": "dafc2563",
   "metadata": {},
   "source": [
    "Good to know! It looks like we've got 57 cases whose age was not recorded. This is a low enough number that I feel comfy replacing these missing ages with the mean age across the whole dataset."
   ]
  },
  {
   "cell_type": "code",
   "execution_count": 26,
   "id": "e8453af0",
   "metadata": {},
   "outputs": [
    {
     "data": {
      "text/plain": [
       "lesion_id       0\n",
       "image_id        0\n",
       "dx              0\n",
       "dx_type         0\n",
       "age             0\n",
       "sex             0\n",
       "localization    0\n",
       "dtype: int64"
      ]
     },
     "execution_count": 26,
     "metadata": {},
     "output_type": "execute_result"
    }
   ],
   "source": [
    "# Fill na values \"age\" variable\n",
    "metadata[\"age\"].fillna(metadata[\"age\"].mean(), inplace = True)\n",
    "metadata.isna().sum()"
   ]
  },
  {
   "cell_type": "code",
   "execution_count": 24,
   "id": "65b78c00",
   "metadata": {},
   "outputs": [
    {
     "data": {
      "text/plain": [
       "count    10015.000000\n",
       "mean        51.863828\n",
       "std         16.920252\n",
       "min          0.000000\n",
       "25%         40.000000\n",
       "50%         50.000000\n",
       "75%         65.000000\n",
       "max         85.000000\n",
       "Name: age, dtype: float64"
      ]
     },
     "execution_count": 24,
     "metadata": {},
     "output_type": "execute_result"
    }
   ],
   "source": [
    "# Check work with .describe:\n",
    "metadata[\"age\"].describe()"
   ]
  },
  {
   "cell_type": "markdown",
   "id": "c1697226",
   "metadata": {},
   "source": [
    "Interesting... we have some cases where the recorded age is zero!! It's unlikely (I think, at least; I'm not really an expert in pediatric oncology) to have a patient who is truly less than a year old in for skin cancer, so I'm going to assume that these cases are simply a mixup in data entry -- some unknown ages were input as NA, some unknown ages were input as 0. Let's fix that too."
   ]
  },
  {
   "cell_type": "markdown",
   "id": "03b8995d",
   "metadata": {},
   "source": [
    "#### First, let's check how many 0s we have...."
   ]
  },
  {
   "cell_type": "code",
   "execution_count": 32,
   "id": "f9058ca3",
   "metadata": {},
   "outputs": [
    {
     "data": {
      "text/plain": [
       "39"
      ]
     },
     "execution_count": 32,
     "metadata": {},
     "output_type": "execute_result"
    }
   ],
   "source": [
    "metadata[\"age\"].value_counts()[0]"
   ]
  },
  {
   "cell_type": "markdown",
   "id": "d3513033",
   "metadata": {},
   "source": [
    "Well that's okay, only 39 zeros! I wanted to check and make sure -- it's always nasty if they make up some absurd number like 1/2 the dataset!"
   ]
  },
  {
   "cell_type": "code",
   "execution_count": 33,
   "id": "6485110a",
   "metadata": {},
   "outputs": [
    {
     "data": {
      "text/plain": [
       "count    10015.000000\n",
       "mean        52.065794\n",
       "std         16.606576\n",
       "min          5.000000\n",
       "25%         40.000000\n",
       "50%         50.000000\n",
       "75%         65.000000\n",
       "max         85.000000\n",
       "Name: age, dtype: float64"
      ]
     },
     "execution_count": 33,
     "metadata": {},
     "output_type": "execute_result"
    }
   ],
   "source": [
    "metadata[\"age\"] = metadata[\"age\"].replace(0, metadata[\"age\"].mean())\n",
    "metadata[\"age\"].describe()"
   ]
  },
  {
   "cell_type": "code",
   "execution_count": 10,
   "id": "a314c869",
   "metadata": {},
   "outputs": [
    {
     "data": {
      "text/plain": [
       "label\n",
       "0     327\n",
       "1     514\n",
       "2    1099\n",
       "3     115\n",
       "4    6705\n",
       "5     142\n",
       "6    1113\n",
       "Name: pixel0001, dtype: int64"
      ]
     },
     "execution_count": 10,
     "metadata": {},
     "output_type": "execute_result"
    }
   ],
   "source": [
    "data.groupby(\"label\").count()[\"pixel0001\"]"
   ]
  },
  {
   "cell_type": "markdown",
   "id": "b4768efb",
   "metadata": {},
   "source": [
    "We normalize the dataset because we want to get a value as a *percentage* of brightness, rather than a specific luma key. I've done some analysis on this to know that we don't have any issues, as would be expected for a dataset cultivated for machine learning rather than \"real-world\" data. I'll likely do more to figure out what kind of distributions exist across cancer type, gender, cancer location, etc. For now though, let's do the fun stuff!"
   ]
  },
  {
   "cell_type": "markdown",
   "id": "55361238",
   "metadata": {},
   "source": [
    "## Let's plot the first few images"
   ]
  },
  {
   "cell_type": "code",
   "execution_count": 7,
   "id": "266c778b",
   "metadata": {},
   "outputs": [
    {
     "data": {
      "image/png": "[encoded data removed]",
      "text/plain": [
       "<Figure size 800x800 with 16 Axes>"
      ]
     },
     "metadata": {},
     "output_type": "display_data"
    }
   ],
   "source": [
    "plt.figure(figsize=(8,8))\n",
    "for i in range(16):\n",
    "    plt.subplot(4,4,i+1)\n",
    "    plt.imshow(data_normalized.iloc[i,:784].values.reshape(28,28))\n",
    "    plt.title(data.iloc[i,784])"
   ]
  },
  {
   "cell_type": "markdown",
   "id": "3b226e53",
   "metadata": {},
   "source": [
    "Well this is cool! I really love being able to take a look at what the computer \"sees\" when I give it the matrix. I also just noticed something about the data that I'll have to fix -- I normalized EVERY column in the dataset, including the label column. Probably a good idea to fix that little issue..."
   ]
  },
  {
   "cell_type": "markdown",
   "id": "aa87aad2",
   "metadata": {},
   "source": []
  }
 ],
 "metadata": {
  "kernelspec": {
   "display_name": "Python 3 (ipykernel)",
   "language": "python",
   "name": "python3"
  },
  "language_info": {
   "codemirror_mode": {
    "name": "ipython",
    "version": 3
   },
   "file_extension": ".py",
   "mimetype": "text/x-python",
   "name": "python",
   "nbconvert_exporter": "python",
   "pygments_lexer": "ipython3",
   "version": "3.10.8"
  }
 },
 "nbformat": 4,
 "nbformat_minor": 5
}
