{
 "cells": [
  {
   "cell_type": "markdown",
   "id": "abd372f8",
   "metadata": {},
   "source": [
    "# Skin Cancer Classification"
   ]
  },
  {
   "cell_type": "markdown",
   "id": "0447a557",
   "metadata": {},
   "source": [
    "## Import Relevant Packages"
   ]
  },
  {
   "cell_type": "code",
   "execution_count": null,
   "id": "24d64341",
   "metadata": {},
   "outputs": [],
   "source": [
    "import numpy as np\n",
    "import pandas as pd\n",
    "import tensorflow as tf\n",
    "from tensorflow.keras import layers\n",
    "from tensorflow import keras\n",
    "from tensorflow.keras import models\n",
    "import matplotlib.pyplot as plt\n",
    "from sklearn.model_selection import train_test_split\n",
    "import PIL.Image as img\n",
    "from keras.layers import Dense, Conv2D , MaxPool2D , Dropout , Flatten\n",
    "from keras.callbacks import EarlyStopping\n",
    "from tensorflow.keras.utils import to_categorical\n",
    "from tensorflow.keras.layers.experimental import preprocessing\n",
    "import seaborn as sns\n",
    "import os\n",
    "from glob import glob"
   ]
  },
  {
   "cell_type": "markdown",
   "id": "d464856c",
   "metadata": {},
   "source": [
    "#### Personal Notes:\n",
    "\n",
    "I'm a little worried about runtime, so I may make a switch to using grayscale images. RGB is 3 times the size and I'm not sure how that'll play out. Hopefully we don't have to make the compromise, because I think color is important in this data, but I'm keeping it in mind! As an aside, here are what each number in the \"label\" column corresponds to:\n",
    "```\n",
    "0: nv - Melanocytic nevi\n",
    "1: mel - Melanoma\n",
    "2: bkl - Benign keratosis-like lesions\n",
    "3: bcc - Basal cell carcinoma\n",
    "4: akiec - Actinic keratoses and intraepithelial carcinoma / Bowen's disease\n",
    "5: vasc - Vascular lesions\n",
    "6: df - Dermatofibroma\n",
    "```\n",
    "The abbreviations are given in the original metadata under the \"dx\" column; I make these diagnoses clearer in the modified dataset."
   ]
  },
  {
   "cell_type": "markdown",
   "id": "41fad5ad",
   "metadata": {},
   "source": [
    "## Read in Dataset"
   ]
  },
  {
   "cell_type": "code",
   "execution_count": null,
   "id": "e66f3b79",
   "metadata": {},
   "outputs": [],
   "source": [
    "data = pd.read_csv(\"./hmnist_28_28_L.csv\")\n",
    "metadata = pd.read_csv(\"./HAM10000_metadata.csv\")\n",
    "\n",
    "# Normalize data:\n",
    "data_normalized = data / 255\n",
    "\n",
    "data.head()"
   ]
  },
  {
   "cell_type": "markdown",
   "id": "67ddfc09",
   "metadata": {},
   "source": [
    "We normalize the dataset because we want to get a value as a *percentage* of brightness, rather than a specific luma key. I've done some analysis on this to know that we don't have any issues, as would be expected for a dataset cultivated for machine learning rather than \"real-world\" data. I'll likely do more to figure out what kind of distributions exist across cancer type, gender, cancer location, etc. For now though, let's do the fun stuff!"
   ]
  },
  {
   "cell_type": "markdown",
   "id": "4bff45e4",
   "metadata": {},
   "source": [
    "## Metadata Analysis"
   ]
  },
  {
   "cell_type": "code",
   "execution_count": null,
   "id": "5eeab896",
   "metadata": {},
   "outputs": [],
   "source": [
    "metadata.isna().sum()"
   ]
  },
  {
   "cell_type": "markdown",
   "id": "53d25d29",
   "metadata": {},
   "source": [
    "Good to know! It looks like we've got 57 cases whose age was not recorded. This is a low enough number that I feel comfy replacing these missing ages with the mean age across the whole dataset. I'm using imputation rather than removal because I want to use as much available data as possible. "
   ]
  },
  {
   "cell_type": "code",
   "execution_count": null,
   "id": "46f0456e",
   "metadata": {},
   "outputs": [],
   "source": [
    "# Fill na values \"age\" variable\n",
    "metadata[\"age\"].fillna(metadata[\"age\"].mean(), inplace = True)\n",
    "metadata.isna().sum()"
   ]
  },
  {
   "cell_type": "code",
   "execution_count": null,
   "id": "0a593432",
   "metadata": {},
   "outputs": [],
   "source": [
    "# Check work with .describe:\n",
    "metadata[\"age\"].describe()"
   ]
  },
  {
   "cell_type": "markdown",
   "id": "f9710100",
   "metadata": {},
   "source": [
    "Interesting... we have some cases where the recorded age is zero!! It's unlikely (I think, at least; I'm not really an expert in pediatric oncology) to have a patient who is truly less than a year old in for skin cancer, so I'm going to assume that these cases are simply a mixup in data entry -- some unknown ages were input as NA, some unknown ages were input as 0. Let's fix that too."
   ]
  },
  {
   "cell_type": "markdown",
   "id": "ee86b563",
   "metadata": {},
   "source": [
    "#### First, let's check how many 0s we have...."
   ]
  },
  {
   "cell_type": "code",
   "execution_count": null,
   "id": "9c040127",
   "metadata": {},
   "outputs": [],
   "source": [
    "metadata[\"age\"].value_counts()[0]"
   ]
  },
  {
   "cell_type": "markdown",
   "id": "df1a9cd9",
   "metadata": {},
   "source": [
    "Well that's okay, only 39 zeros! I wanted to check and make sure -- it's always nasty if they make up some absurd number like 1/2 the dataset!"
   ]
  },
  {
   "cell_type": "code",
   "execution_count": null,
   "id": "3e27ea2b",
   "metadata": {},
   "outputs": [],
   "source": [
    "metadata[\"age\"] = metadata[\"age\"].replace(0, metadata[\"age\"].mean())\n",
    "metadata[\"age\"].describe()"
   ]
  },
  {
   "cell_type": "code",
   "execution_count": null,
   "id": "bcc8208e",
   "metadata": {
    "scrolled": true
   },
   "outputs": [],
   "source": [
    "data.groupby(\"label\").count()[\"pixel0001\"]"
   ]
  },
  {
   "cell_type": "markdown",
   "id": "b78be47a",
   "metadata": {},
   "source": [
    "This data is weighted funny... we'll need to make sure that we find a way around this statistically; too many actinic keratoses cases may skew our predictive capacity. There's got to be a way around it, but I'll check with Cheng on Thursday after class.\n",
    "\n",
    "Note: Found the solution! I need to come up with a way to select proportionally, or maybe I'll do it with class weights. It might be a little unorthodox to do for a majority column, but we'll give it a go.  "
   ]
  },
  {
   "cell_type": "markdown",
   "id": "eaf16eb0",
   "metadata": {},
   "source": [
    "## Merge datasets\n",
    "\n",
    "I want to make sure that I can keep all data contained in the same dataframe so we can perform a more detailed analysis. I've decided to provide specific names for each skin lesion abbreviation to make my visualizations clearer, and included the image path in the dataframe to make it simpler to find and plot images. I add the label column because each skin lesion is associated with a numeric label code in the pre-built image arrays. In the event I want to use one of these other datasets, I want the switch to be as smooth as possible. Moreover, I will need to one-hot encode the label column to use it in a CNN like I intend to, and readability is helped by making similar changes all at the same time."
   ]
  },
  {
   "cell_type": "code",
   "execution_count": null,
   "id": "28a1c243",
   "metadata": {},
   "outputs": [],
   "source": [
    "# Create lesion type dataset:\n",
    "\n",
    "cancer_types_dict = {\n",
    "    \"akiec\" : \"Actinic Keratoses\",\n",
    "    \"bcc\" : \"Basal Cell Carcinoma\",\n",
    "    \"bkl\" : \"Benign Keratosis-like Lesions\",\n",
    "    \"df\" : \"Dermatofibroma\",\n",
    "    \"mel\" : \"Melanoma\",\n",
    "    \"nv\" : \"Melanocytic Nevi\",\n",
    "    \"vasc\" : \"Vascular Lesions\"\n",
    "}\n",
    "\n",
    "# Create dict of img paths:\n",
    "base_skin_set = os.getcwd() # this should work for everybody, so long as the file is in the same folder as all the data!\n",
    "\n",
    "image_id_path_dict = {os.path.splitext(os.path.basename(x))[0]: x\n",
    "                     for x in glob(os.path.join(base_skin_set, '*', '*.jpg'))} # This is modified stack-overflow code, but it works!"
   ]
  },
  {
   "cell_type": "code",
   "execution_count": null,
   "id": "4f4876c5",
   "metadata": {},
   "outputs": [],
   "source": [
    "# Create modified dataframe:\n",
    "mod_data = metadata\n",
    "\n",
    "mod_data[\"Cell_Type\"] = mod_data['dx'].map(cancer_types_dict.get)\n",
    "mod_data[\"Path\"] = mod_data[\"image_id\"].map(image_id_path_dict.get)\n",
    "mod_data[\"Label\"] = pd.Categorical(mod_data['Cell_Type']).codes # Aligns data labels with .csv files in original download\n",
    "mod_data.head()"
   ]
  },
  {
   "cell_type": "markdown",
   "id": "63a66fbd",
   "metadata": {},
   "source": [
    "### Plot Images From Modified Data"
   ]
  },
  {
   "cell_type": "code",
   "execution_count": null,
   "id": "68997632",
   "metadata": {},
   "outputs": [],
   "source": [
    "plt.figure(figsize = (8,8))\n",
    "for i in range(16):\n",
    "    plt.subplot(4,4, i + 1)\n",
    "    x = plt.imread(mod_data.Path[i])\n",
    "    plt.axis(\"off\")\n",
    "    plt.title(mod_data.dx[i])\n",
    "    plt.imshow(x)"
   ]
  },
  {
   "cell_type": "markdown",
   "id": "b7adc9d5",
   "metadata": {},
   "source": [
    "There we go, clear images of benign lesions that are easy to interpret. This will make life easier when it comes to displaying interesting images in the future, and gives us a clear path to building the CNN; we only need to import the image with the path, convert to np array, and reshape for computational efficiency."
   ]
  },
  {
   "cell_type": "markdown",
   "id": "3e4c7271",
   "metadata": {},
   "source": [
    "### Train / Test Split and Image Conversion.\n"
   ]
  },
  {
   "cell_type": "code",
   "execution_count": null,
   "id": "e0b44f57",
   "metadata": {},
   "outputs": [],
   "source": [
    "# Drop label columns:\n",
    "features = mod_data.drop(columns = [\"Label\", \"Cell_Type\", \"dx\"], axis = 1)\n",
    "\n",
    "\n",
    "X_train, X_test = train_test_split(features, test_size = .3, random_state = 1729) #Points if you know the significance of that number!\n",
    "X_train.head()"
   ]
  },
  {
   "cell_type": "markdown",
   "id": "0a0e4a62",
   "metadata": {},
   "source": [
    "### Read in Files w/ glob\n",
    "glob is used to find files matching a certain path; in this case, image files 1 & 2. I use a wildcard (denoted by the asterisk) to pull *everything* in the file path with a \".jpg\", and split the data into test and train accordingly. The data comes to us separated into train and test sets, at the moment, I'm not going to change it. So, I assign everything in file 1 to \"train_image_names\", and everything in file 2 to \"test_image_names\". An example of how a name is stored is shown here: \n",
    "```\n",
    "'HAM10000_images_part_1\\\\ISIC_0024306'\n",
    "```\n",
    ".rindex() works almost exactly like .rfind(), except it raises an exception if the value isn't found instead of returning -1. Here I use it to find the last backslash in the image file name, then use indexing to isolate the name itself."
   ]
  },
  {
   "cell_type": "code",
   "execution_count": null,
   "id": "d8ba75e4",
   "metadata": {},
   "outputs": [],
   "source": [
    "# Training Image Assignment\n",
    "image_names_p1 = glob('./HAM10000_images_part_1/*.jpg')\n",
    "train_image_names = [image[image.rindex('/')+1:-4] for image in image_names_p1]\n",
    "\n",
    "# Testing Image Assignment\n",
    "image_names_p2 = glob('./HAM10000_images_part_2/*.jpg')\n",
    "test_image_names = [image[image.rindex('/')+1:-4] for image in image_names_p2]"
   ]
  },
  {
   "cell_type": "markdown",
   "id": "1eb3ba3f",
   "metadata": {},
   "source": [
    "## Let's plot the first few images"
   ]
  },
  {
   "cell_type": "code",
   "execution_count": null,
   "id": "c47dcf89",
   "metadata": {},
   "outputs": [],
   "source": [
    "plt.figure(figsize=(8,8))\n",
    "for i in range(16):\n",
    "    plt.subplot(4,4,i+1)\n",
    "    plt.imshow(data_normalized.iloc[i,:784].values.reshape(28,28))\n",
    "    plt.title(data.iloc[i,784])"
   ]
  },
  {
   "cell_type": "markdown",
   "id": "cb6eeead",
   "metadata": {},
   "source": [
    "Well this is cool! I really love being able to take a look at what the computer \"sees\" when I give it the matrix. I also just noticed something about the data that I'll have to fix -- I normalized EVERY column in the dataset, including the label column. Probably a good idea to fix that little issue..."
   ]
  },
  {
   "cell_type": "markdown",
   "id": "de194ff2",
   "metadata": {},
   "source": []
  }
 ],
 "metadata": {
  "kernelspec": {
   "display_name": "Python 3 (ipykernel)",
   "language": "python",
   "name": "python3"
  },
  "language_info": {
   "codemirror_mode": {
    "name": "ipython",
    "version": 3
   },
   "file_extension": ".py",
   "mimetype": "text/x-python",
   "name": "python",
   "nbconvert_exporter": "python",
   "pygments_lexer": "ipython3",
   "version": "3.10.8"
  }
 },
 "nbformat": 4,
 "nbformat_minor": 5
}
